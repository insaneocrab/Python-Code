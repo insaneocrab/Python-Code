{
 "cells": [
  {
   "cell_type": "code",
   "execution_count": 1,
   "id": "fdf29c34",
   "metadata": {
    "is_executing": true
   },
   "outputs": [],
   "source": [
    "#creating class BankAccount\n",
    "\n",
    "class BankAccount:\n",
    "\n",
    "#defining the constructor    \n",
    "    \n",
    "    def __init__(self, acct_num, balance):\n",
    "        \n",
    "        self.__acct_num = acct_num\n",
    "        \n",
    "        self.__balance = balance\n",
    "\n",
    "#defining the deposit function       \n",
    "        \n",
    "    def deposit(self, amount):\n",
    "        \n",
    "        self.__balance += amount\n",
    "        print('Balance:', self.__balance)\n",
    "\n",
    "#defining the withdraw function        \n",
    "        \n",
    "    def withdraw(self, amount):\n",
    "        \n",
    "#using if/else to prevent overdrawing the account balance\n",
    "\n",
    "        if self.__balance >= amount:\n",
    "            self.__balance -= amount\n",
    "            print('Balance:', self.__balance)\n",
    "                        \n",
    "        else:\n",
    "            print('Unable to comply. You do not have enough money!')\n",
    "            \n",
    "#defining the str method to return account number and balance    \n",
    "    \n",
    "    def __str__(self):\n",
    "        \n",
    "        return 'Account Number: ' + self.__acct_num + ', ' + 'Balance: ' + str(self.__balance)\n",
    "             "
   ]
  },
  {
   "cell_type": "code",
   "execution_count": null,
   "id": "4b284e08",
   "metadata": {
    "is_executing": true
   },
   "outputs": [],
   "source": [
    "a1 = BankAccount('123456', 0)\n",
    "a2 = BankAccount('123455', 0)\n",
    "a3 = BankAccount('123444', 0)"
   ]
  },
  {
   "cell_type": "code",
   "execution_count": 3,
   "id": "8a4bccc7",
   "metadata": {},
   "outputs": [
    {
     "name": "stdout",
     "output_type": "stream",
     "text": [
      "Balance: 4000\n",
      "Balance: 4000\n",
      "Balance: 4000\n"
     ]
    }
   ],
   "source": [
    "a1.deposit(4000)\n",
    "a2.deposit(4000)\n",
    "a3.deposit(4000)"
   ]
  },
  {
   "cell_type": "code",
   "execution_count": 4,
   "id": "17d83b66",
   "metadata": {},
   "outputs": [
    {
     "name": "stdout",
     "output_type": "stream",
     "text": [
      "Balance: 2500\n",
      "Unable to comply. You do not have enough money!\n",
      "Balance: 500\n"
     ]
    }
   ],
   "source": [
    "a1.withdraw(1500)\n",
    "a2.withdraw(5000)\n",
    "a3.withdraw(3500)"
   ]
  },
  {
   "cell_type": "code",
   "execution_count": 5,
   "id": "9e9122a8",
   "metadata": {},
   "outputs": [
    {
     "name": "stdout",
     "output_type": "stream",
     "text": [
      "Account Number: 123456, Balance: 2500\n",
      "Account Number: 123455, Balance: 4000\n",
      "Account Number: 123444, Balance: 500\n"
     ]
    }
   ],
   "source": [
    "print(a1)\n",
    "print(a2)\n",
    "print(a3)"
   ]
  }
 ],
 "metadata": {
  "kernelspec": {
   "display_name": "Python 3 (ipykernel)",
   "language": "python",
   "name": "python3"
  },
  "language_info": {
   "codemirror_mode": {
    "name": "ipython",
    "version": 3
   },
   "file_extension": ".py",
   "mimetype": "text/x-python",
   "name": "python",
   "nbconvert_exporter": "python",
   "pygments_lexer": "ipython3",
   "version": "3.11.7"
  }
 },
 "nbformat": 4,
 "nbformat_minor": 5
}
