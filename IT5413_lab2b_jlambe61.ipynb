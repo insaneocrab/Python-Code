{
 "cells": [
  {
   "cell_type": "code",
   "execution_count": 1,
   "id": "c12369aa",
   "metadata": {},
   "outputs": [
    {
     "name": "stdout",
     "output_type": "stream",
     "text": [
      "Are you a full-time or part-time student? Please type f for full-time or p for part-time.  f\n",
      "The cost for 2021 school year will be $6778\n",
      "___________________________________________\n",
      "The cost for 2022 school year will be $7015\n",
      "___________________________________________\n",
      "The cost for 2023 school year will be $7260\n",
      "___________________________________________\n",
      "The cost for 2024 school year will be $7514\n",
      "___________________________________________\n",
      "The cost for 2025 school year will be $7777\n",
      "___________________________________________\n",
      "The cost for 2026 school year will be $8050\n",
      "___________________________________________\n",
      "The cost for 2027 school year will be $8331\n",
      "___________________________________________\n",
      "Will that be cash or check?\n"
     ]
    }
   ],
   "source": [
    "student_type = input('Are you a full-time or part-time student? Please type f for full-time or p for part-time.  ')\n",
    "\n",
    "if(student_type == 'f'):\n",
    "    tuition = 6778\n",
    "    school_year = 2021\n",
    "\n",
    "    while(school_year <= 2027):\n",
    "        print('The cost for %d school year will be $%d' % (school_year, tuition))\n",
    "        print('___________________________________________')\n",
    "        school_year += 1\n",
    "        tuition *= 1.035\n",
    "    \n",
    "    \n",
    "elif(student_type == 'p'):\n",
    "    tuition = 3441\n",
    "    school_year = 2021\n",
    "\n",
    "    while(school_year <= 2027):\n",
    "        print('The cost for %d school year will be %$d' % (school_year, tuition))\n",
    "        print('___________________________________________')\n",
    "        school_year += 1\n",
    "        tuition *= 1.035\n",
    "        \n",
    "print('Will that be cash or check?')"
   ]
  },
  {
   "cell_type": "code",
   "execution_count": 1,
   "id": "fe16b0e1",
   "metadata": {},
   "outputs": [
    {
     "name": "stdout",
     "output_type": "stream",
     "text": [
      "Are you a full-time or part-time student? Please type f for full-time or p for part-time.  p\n",
      "The cost for 2021 school year will be $3441\n",
      "___________________________________________\n",
      "The cost for 2022 school year will be $3561\n",
      "___________________________________________\n",
      "The cost for 2023 school year will be $3686\n",
      "___________________________________________\n",
      "The cost for 2024 school year will be $3815\n",
      "___________________________________________\n",
      "The cost for 2025 school year will be $3948\n",
      "___________________________________________\n",
      "The cost for 2026 school year will be $4086\n",
      "___________________________________________\n",
      "The cost for 2027 school year will be $4229\n",
      "___________________________________________\n",
      "Will that be cash or check?\n"
     ]
    }
   ],
   "source": [
    "student_type = input('Are you a full-time or part-time student? Please type f for full-time or p for part-time.  ')\n",
    "\n",
    "if(student_type == 'f'):\n",
    "    tuition = 6778\n",
    "    school_year = 2021\n",
    "\n",
    "    while(school_year <= 2027):\n",
    "        print('The cost for %d school year will be $%d' % (school_year, tuition))\n",
    "        print('___________________________________________')\n",
    "        school_year += 1\n",
    "        tuition *= 1.035\n",
    "    \n",
    "    \n",
    "elif(student_type == 'p'):\n",
    "    tuition = 3441\n",
    "    school_year = 2021\n",
    "\n",
    "    while(school_year <= 2027):\n",
    "        print('The cost for %d school year will be $%d' % (school_year, tuition))\n",
    "        print('___________________________________________')\n",
    "        school_year += 1\n",
    "        tuition *= 1.035\n",
    "        \n",
    "print('Will that be cash or check?')"
   ]
  },
  {
   "cell_type": "code",
   "execution_count": null,
   "id": "8ff7d0e4",
   "metadata": {},
   "outputs": [],
   "source": []
  }
 ],
 "metadata": {
  "kernelspec": {
   "display_name": "Python 3 (ipykernel)",
   "language": "python",
   "name": "python3"
  },
  "language_info": {
   "codemirror_mode": {
    "name": "ipython",
    "version": 3
   },
   "file_extension": ".py",
   "mimetype": "text/x-python",
   "name": "python",
   "nbconvert_exporter": "python",
   "pygments_lexer": "ipython3",
   "version": "3.11.7"
  }
 },
 "nbformat": 4,
 "nbformat_minor": 5
}
