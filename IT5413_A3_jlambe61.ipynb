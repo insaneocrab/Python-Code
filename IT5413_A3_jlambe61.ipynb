{
 "cells": [
  {
   "cell_type": "code",
   "execution_count": 1,
   "id": "e5925eda",
   "metadata": {},
   "outputs": [
    {
     "name": "stdout",
     "output_type": "stream",
     "text": [
      "Student Name:  Ryan N\n",
      "What is the grade?  85\n",
      "What is the grade?  90\n",
      "What is the grade?  95\n",
      "What is the grade?  80\n",
      "What is the grade?  75\n",
      "What is the grade?  50\n",
      "What is the grade?  93\n",
      "What is the grade?  83\n",
      "Student:   Ryan N\n",
      "Score:   85 Letter Grade:   B\n",
      "Score:   90 Letter Grade:   A\n",
      "Score:   95 Letter Grade:   A\n",
      "Score:   80 Letter Grade:   B\n",
      "Score:   75 Letter Grade:   C\n",
      "Score:   50 Letter Grade:   F\n",
      "Score:   93 Letter Grade:   A\n",
      "Score:   83 Letter Grade:   B\n",
      "Course Grade:   81.375 B\n"
     ]
    }
   ],
   "source": [
    "#defining the function for calculating the mean score\n",
    "\n",
    "def calc_average(scores):\n",
    "    total = 0\n",
    "    for num in range(8):\n",
    "        total = total + scores[num]\n",
    "    return total/8\n",
    "\n",
    "#defining the function for assigning a letter grade to each user input\n",
    "\n",
    "def determine_grade(score):\n",
    "    if score >= 90:\n",
    "        return 'A'\n",
    "    elif score >= 80 and score < 90:\n",
    "        return 'B'\n",
    "    elif score >= 70 and score < 80:\n",
    "        return 'C'\n",
    "    elif score >= 60 and score < 70:\n",
    "        return 'D'\n",
    "    elif score < 60:\n",
    "        return 'F'\n",
    "    \n",
    "#defining my variables and inputs and outputs\n",
    "    \n",
    "scores=[]\n",
    "name = input('Student Name:  ')\n",
    "for num in range(8):\n",
    "    score = int(input('What is the grade?  '))\n",
    "    scores.append(score)\n",
    "mean = calc_average(scores)\n",
    "print('Student:  ', name)\n",
    "for num in range(8):\n",
    "    print('Score:  ', scores[num], 'Letter Grade:  ', determine_grade(scores[num]))\n",
    "\n",
    "#adding an extra bit of code to put a letter grade with the course mean\n",
    "\n",
    "if mean >= 90:\n",
    "    print('Course Grade:  ', mean, 'A')\n",
    "elif mean >= 80 and mean < 90:\n",
    "    print('Course Grade:  ', mean, 'B')\n",
    "elif mean >= 70 and mean < 80:\n",
    "    print('Course Grade:  ', mean, 'C')\n",
    "elif mean >= 60 and mean < 70:\n",
    "    print('Course Grade:  ', mean, 'D')\n",
    "elif mean < 60:\n",
    "    print('Course Grade:  ', mean, 'F')\n"
   ]
  },
  {
   "cell_type": "code",
   "execution_count": null,
   "id": "6d521310",
   "metadata": {},
   "outputs": [],
   "source": []
  },
  {
   "cell_type": "code",
   "execution_count": null,
   "id": "a9ed39ef",
   "metadata": {},
   "outputs": [],
   "source": []
  }
 ],
 "metadata": {
  "kernelspec": {
   "display_name": "Python 3 (ipykernel)",
   "language": "python",
   "name": "python3"
  },
  "language_info": {
   "codemirror_mode": {
    "name": "ipython",
    "version": 3
   },
   "file_extension": ".py",
   "mimetype": "text/x-python",
   "name": "python",
   "nbconvert_exporter": "python",
   "pygments_lexer": "ipython3",
   "version": "3.9.7"
  }
 },
 "nbformat": 4,
 "nbformat_minor": 5
}
