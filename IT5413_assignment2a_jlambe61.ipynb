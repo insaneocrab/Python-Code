{
 "cells": [
  {
   "cell_type": "code",
   "execution_count": 1,
   "id": "b389922d",
   "metadata": {},
   "outputs": [
    {
     "name": "stdout",
     "output_type": "stream",
     "text": [
      "Please enter the number of credits you are taking this semester  6\n",
      "Are you an in-state student? (y/n)y\n",
      "Your tuition for this semester is $ 1776\n"
     ]
    }
   ],
   "source": [
    "credits = int(input('Please enter the number of credits you are taking this semester  '))\n",
    "\n",
    "student_type = input('Are you an in-state student? (y/n)')\n",
    "\n",
    "if(student_type == 'y'):\n",
    "    tuition = credits*296\n",
    "    \n",
    "elif(student_type == 'n'):\n",
    "    tuition = credits*1066\n",
    "\n",
    "print('Your tuition for this semester is $', tuition)"
   ]
  },
  {
   "cell_type": "code",
   "execution_count": 2,
   "id": "330d0a11",
   "metadata": {},
   "outputs": [
    {
     "name": "stdout",
     "output_type": "stream",
     "text": [
      "Please enter the number of credits you are taking this semester  6\n",
      "Are you an in-state student? (y/n)n\n",
      "Your tuition for this semester is $ 6396\n"
     ]
    }
   ],
   "source": [
    "credits = int(input('Please enter the number of credits you are taking this semester  '))\n",
    "\n",
    "student_type = input('Are you an in-state student? (y/n)')\n",
    "\n",
    "if(student_type == 'y'):\n",
    "    tuition = credits*296\n",
    "    \n",
    "elif(student_type == 'n'):\n",
    "    tuition = credits*1066\n",
    "\n",
    "print('Your tuition for this semester is $', tuition)"
   ]
  },
  {
   "cell_type": "code",
   "execution_count": null,
   "id": "55a40354",
   "metadata": {},
   "outputs": [],
   "source": []
  }
 ],
 "metadata": {
  "kernelspec": {
   "display_name": "Python 3 (ipykernel)",
   "language": "python",
   "name": "python3"
  },
  "language_info": {
   "codemirror_mode": {
    "name": "ipython",
    "version": 3
   },
   "file_extension": ".py",
   "mimetype": "text/x-python",
   "name": "python",
   "nbconvert_exporter": "python",
   "pygments_lexer": "ipython3",
   "version": "3.11.7"
  }
 },
 "nbformat": 4,
 "nbformat_minor": 5
}
